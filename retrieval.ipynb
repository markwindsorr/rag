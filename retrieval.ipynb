{
 "cells": [
  {
   "cell_type": "markdown",
   "metadata": {},
   "source": [
    "# Building Retrieval from Scratch\n",
    "\n",
    "Here we'll show how to build a standard retriever against a vector database, that will fetch nodes via top-k similarity.\n",
    "\n",
    "We use Pinecone as the vector database. We load in nodes using our high level ingestion abstractions\n",
    "\n",
    "We'll show how to: \n",
    "\n",
    "1. How to generate a query embedding\n",
    "2. How to query the vector database using different search modes (dense, sparse, hybrid)\n",
    "3. How to parse results into a set of Nodes\n",
    "4. How to put this in a custom retriever\n",
    "\n"
   ]
  },
  {
   "cell_type": "code",
   "execution_count": 8,
   "metadata": {},
   "outputs": [
    {
     "data": {
      "text/plain": [
       "True"
      ]
     },
     "execution_count": 8,
     "metadata": {},
     "output_type": "execute_result"
    }
   ],
   "source": [
    "import os\n",
    "from dotenv import load_dotenv\n",
    "\n",
    "# Get the path to the current directory\n",
    "current_dir = os.path.dirname(os.path.abspath('__file__'))\n",
    "\n",
    "# Construct the path to the .env file in the same directory\n",
    "dotenv_path = os.path.join(current_dir, 'env')\n",
    "\n",
    "# Load the environment variables from the .env file\n",
    "load_dotenv(dotenv_path=dotenv_path)\n"
   ]
  },
  {
   "cell_type": "code",
   "execution_count": 11,
   "metadata": {},
   "outputs": [],
   "source": [
    "from pinecone import Pinecone, ServerlessSpec\n",
    "\n",
    "api_key = os.environ[\"PINECONE_API_KEY\"]\n",
    "pc = Pinecone(api_key=api_key)\n",
    "print(api_key)\n",
    "\n",
    "pc.create_index(\n",
    "    name=\"retrieval-tutorial\",\n",
    "    dimension=1536, # Replace with your model dimensions\n",
    "    metric=\"euclidean\", # Replace with your model metric\n",
    "    spec=ServerlessSpec(\n",
    "        cloud=\"aws\",\n",
    "        region=\"us-west-2\"\n",
    "    ) \n",
    ")"
   ]
  }
 ],
 "metadata": {
  "kernelspec": {
   "display_name": "Python 3",
   "language": "python",
   "name": "python3"
  },
  "language_info": {
   "codemirror_mode": {
    "name": "ipython",
    "version": 3
   },
   "file_extension": ".py",
   "mimetype": "text/x-python",
   "name": "python",
   "nbconvert_exporter": "python",
   "pygments_lexer": "ipython3",
   "version": "3.11.8"
  }
 },
 "nbformat": 4,
 "nbformat_minor": 2
}
